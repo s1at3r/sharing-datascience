{
 "cells": [
  {
   "cell_type": "markdown",
   "metadata": {},
   "source": [
    "## Adding Columns to Dataframes and Generating a fake Email address \n",
    "This notebook will demonstrate how to add a new column to an existing dataframe that has been uploaded as a csv file. Then I will generate a fake company email address, this project was made from an assignment given to me to create an Excel matrix for IAM policies. "
   ]
  },
  {
   "cell_type": "markdown",
   "metadata": {},
   "source": [
    "### Import Dependencies and CSV file "
   ]
  },
  {
   "cell_type": "code",
   "execution_count": 2,
   "metadata": {},
   "outputs": [
    {
     "name": "stdout",
     "output_type": "stream",
     "text": [
      "  first_name  last_name\n",
      "0      Brook      SMITH\n",
      "1     Brooke    JOHNSON\n",
      "2     Brooks   WILLIAMS\n",
      "3  Brunhilda      BROWN\n",
      "4  Brunhilde      JONES\n",
      "5     Bryana     GARCIA\n",
      "6       Bryn     MILLER\n",
      "7      Bryna      DAVIS\n",
      "8      Brynn  RODRIGUEZ\n",
      "9     Brynna   MARTINEZ\n"
     ]
    }
   ],
   "source": [
    "import pandas as pd\n",
    "df = pd.read_csv('fake_names.csv')\n",
    "print(df)"
   ]
  },
  {
   "cell_type": "markdown",
   "metadata": {},
   "source": [
    "### How to read the Headers of the DataFrame"
   ]
  },
  {
   "cell_type": "code",
   "execution_count": 3,
   "metadata": {},
   "outputs": [
    {
     "data": {
      "text/plain": [
       "Index(['first_name', 'last_name'], dtype='object')"
      ]
     },
     "execution_count": 3,
     "metadata": {},
     "output_type": "execute_result"
    }
   ],
   "source": [
    "#Read Headers\n",
    "df.columns"
   ]
  },
  {
   "cell_type": "markdown",
   "metadata": {},
   "source": [
    "### Create new variable and Column for data"
   ]
  },
  {
   "cell_type": "code",
   "execution_count": 9,
   "metadata": {},
   "outputs": [
    {
     "name": "stdout",
     "output_type": "stream",
     "text": [
      "  first_name  last_name                       email\n",
      "0      Brook      SMITH      Brook.SMITH@giginc.com\n",
      "1     Brooke    JOHNSON   Brooke.JOHNSON@giginc.com\n",
      "2     Brooks   WILLIAMS  Brooks.WILLIAMS@giginc.com\n",
      "3  Brunhilda      BROWN  Brunhilda.BROWN@giginc.com\n",
      "4  Brunhilde      JONES  Brunhilde.JONES@giginc.com\n",
      "5     Bryana     GARCIA    Bryana.GARCIA@giginc.com\n",
      "6       Bryn     MILLER      Bryn.MILLER@giginc.com\n",
      "7      Bryna      DAVIS      Bryna.DAVIS@giginc.com\n",
      "8      Brynn  RODRIGUEZ  Brynn.RODRIGUEZ@giginc.com\n",
      "9     Brynna   MARTINEZ  Brynna.MARTINEZ@giginc.com\n"
     ]
    }
   ],
   "source": [
    "email = (df.first_name + '.' + df.last_name + '@giginc.com')\n",
    "df['email'] = email\n",
    "print(df)\n",
    "    "
   ]
  },
  {
   "cell_type": "code",
   "execution_count": null,
   "metadata": {},
   "outputs": [],
   "source": []
  }
 ],
 "metadata": {
  "kernelspec": {
   "display_name": "Python 3",
   "language": "python",
   "name": "python3"
  },
  "language_info": {
   "codemirror_mode": {
    "name": "ipython",
    "version": 3
   },
   "file_extension": ".py",
   "mimetype": "text/x-python",
   "name": "python",
   "nbconvert_exporter": "python",
   "pygments_lexer": "ipython3",
   "version": "3.7.4"
  }
 },
 "nbformat": 4,
 "nbformat_minor": 2
}
